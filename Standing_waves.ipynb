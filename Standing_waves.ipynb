{
  "nbformat": 4,
  "nbformat_minor": 0,
  "metadata": {
    "colab": {
      "provenance": [],
      "authorship_tag": "ABX9TyNt2fbET1da3r2OP9BT0S1i",
      "include_colab_link": true
    },
    "kernelspec": {
      "name": "python3",
      "display_name": "Python 3"
    },
    "language_info": {
      "name": "python"
    },
    "widgets": {
      "application/vnd.jupyter.widget-state+json": {
        "999a2be321ef470baa3ffa8d2c9424d8": {
          "model_module": "@jupyter-widgets/controls",
          "model_name": "VBoxModel",
          "model_module_version": "1.5.0",
          "state": {
            "_dom_classes": [
              "widget-interact"
            ],
            "_model_module": "@jupyter-widgets/controls",
            "_model_module_version": "1.5.0",
            "_model_name": "VBoxModel",
            "_view_count": null,
            "_view_module": "@jupyter-widgets/controls",
            "_view_module_version": "1.5.0",
            "_view_name": "VBoxView",
            "box_style": "",
            "children": [
              "IPY_MODEL_7cbf4029b47043d2ba57a2f4dd3aded0",
              "IPY_MODEL_e3ad9a2b42a84071a8babaeaeb5a5cca"
            ],
            "layout": "IPY_MODEL_2802abf1348343bd9c28a59a4481c5a5"
          }
        },
        "7cbf4029b47043d2ba57a2f4dd3aded0": {
          "model_module": "@jupyter-widgets/controls",
          "model_name": "IntSliderModel",
          "model_module_version": "1.5.0",
          "state": {
            "_dom_classes": [],
            "_model_module": "@jupyter-widgets/controls",
            "_model_module_version": "1.5.0",
            "_model_name": "IntSliderModel",
            "_view_count": null,
            "_view_module": "@jupyter-widgets/controls",
            "_view_module_version": "1.5.0",
            "_view_name": "IntSliderView",
            "continuous_update": true,
            "description": "n",
            "description_tooltip": null,
            "disabled": false,
            "layout": "IPY_MODEL_01e1f43916a7477f82bbcbc0f72142a2",
            "max": 10,
            "min": 1,
            "orientation": "horizontal",
            "readout": true,
            "readout_format": "d",
            "step": 1,
            "style": "IPY_MODEL_65ab6824f5ba40f4a396712fc21de53c",
            "value": 7
          }
        },
        "e3ad9a2b42a84071a8babaeaeb5a5cca": {
          "model_module": "@jupyter-widgets/output",
          "model_name": "OutputModel",
          "model_module_version": "1.0.0",
          "state": {
            "_dom_classes": [],
            "_model_module": "@jupyter-widgets/output",
            "_model_module_version": "1.0.0",
            "_model_name": "OutputModel",
            "_view_count": null,
            "_view_module": "@jupyter-widgets/output",
            "_view_module_version": "1.0.0",
            "_view_name": "OutputView",
            "layout": "IPY_MODEL_aacd326f1252481dabf6beed9bf8de9d",
            "msg_id": "",
            "outputs": [
              {
                "output_type": "display_data",
                "data": {
                  "text/plain": "<Figure size 432x288 with 1 Axes>",
                  "image/png": "iVBORw0KGgoAAAANSUhEUgAAAYoAAAD8CAYAAABpcuN4AAAABHNCSVQICAgIfAhkiAAAAAlwSFlzAAALEgAACxIB0t1+/AAAADh0RVh0U29mdHdhcmUAbWF0cGxvdGxpYiB2ZXJzaW9uMy4yLjIsIGh0dHA6Ly9tYXRwbG90bGliLm9yZy+WH4yJAAAgAElEQVR4nO29eZhjZ33n+/mp9pJqV1V1dVV37b1vtpsGG4PBNthkwGYgJDhDYmaS4SaBZCZkmJCbZ0IuSe5DJpnJ3Mlkc1gCzASzhMQOGBxwWI23tt3d7r1r7e5aJdUqqUoqSe/94+hUyeXatZ1z9H6eR09rOTp6+9Q55/v+1leUUmg0Go1Gsx6ufA9Ao9FoNNZGC4VGo9FoNkQLhUaj0Wg2RAuFRqPRaDZEC4VGo9FoNkQLhUaj0Wg2JCNCISKfFZFJETm/zuciIv9TRPpE5JyI3Jry2cMici35eDgT49FoNBpN5siURfG3wP0bfP4OoDf5+BDwlwAiUg98Ang9cAr4hIjUZWhMGo1Go8kAGREKpdQPgakNNnkQ+IIyeBaoFZEW4D7gO0qpKaXUNPAdNhYcjUaj0eSY4hz9TitwI+X1zeR7673/GkTkQxjWCG63+7YDBw5kdIDxhGLAH2JxKY67tJiWmnIqSosy+huatVFAKBJjdmGJ2YUl4glFZ4MbT3muTs/CRino9wVZSJ77NZUl1FSUUOySfA+tIEgohW8+gi8YQSnYU1dJbWVJVn7rxRdf9CulGrf7PdtciUqpR4BHAE6ePKlOnz6dsX1Ph6L83KefI+QL8u/e2MlXT98gEIry9lta+X8ePEx1eXb+aBpQSvFLnz/NU5cnqSst4n0Hm7kyPs/Y7AJf/ciddHrd+R6io1FK8ZtfPUvgpRF+9fV7eX5wir7JIIslLv7+V+7g8O6afA/R0Xzj3Cif/KeLFM1H+KVjLUzORzg9NMV/+dkTPHhizTlzWojI8E6+lyuhGAH2pLxuS743Arxl1fvfz9GYAEMk/s2nn6PfF+TTv3CSN+9r5MNv7eYvv9/PX/2gn6aqMn77pw7mckgFxY+u+Xnq8iS/dncPH35rD+UlRdyYCvPA//ox//4Lp/mHX72DKi3UWeMzPx7k6y+N8Bv37uM/3NuLUorL4/M89DfP8kffvsIX/t2pfA/RsYzMLPAfHz3DwZZq/vIDt3Fbex3haIwPfu4FfuPLZxARHji+O9/DBHKXHvs48AvJ7Kc3ALNKqTHgSeDtIlKXDGK/PflezviV//Mifb4gf5MUCYCq8hL+8/0HeNfx3fzvZ4eZCUdzOaSCIZFQ/NcnL9NWV8FH7jZEAmBPfSV/8W9uY8gf4j8+eoZ4QjeuzAY/uOrj/33iEu84sotfu7sHABHhYEs1H35LDz+86uMn/f48j9K5/M0PBwD46583RAKgsrSYz33wdZzsqOc/PvoyZ27M5HOIy2QqPfZLwDPAfhG5KSK/KCK/LCK/nNzkCWAA6AP+BvhVAKXUFPD7wAvJxyeT7+WEC6OzPDswxX++bz937Xut2+5X3tJNKBrnb38ylKshFRRPnB/j/MgcH33bPsqKXx0Pur27gU+86xBPXZ7k757bkbWs2YBwNMZ/ePRl9jVX8SfvO45rVTzi529vp6WmnP/67SvoDtOZxzcf4UvPX+c9t7ayu7biVZ+5y4r5zMMncZcW84VnhvIyvtVkKuvpIaVUi1KqRCnVppT6jFLqr5RSf5X8XCmlPqyU6lZKHVVKnU757meVUj3Jx+cyMZ6t8ujzNygtdvHTt7Wt+fmBXdXce7CZzz09RDASy+XQHM9SPMF/++er7G+uWtcX+4E3tHOktZovn76x5ueanfPPFyaYCS/xiXcdxl32Wg90eUkRv3HvPs7cmOHJCxN5GKGz+ezTg0TjCX75ru41P68qL+HBW3bzzXNjzIaXcjy611KwldnhaIx/fHmEf3W0hdrK0nW3+/Bbu5ldWOJLz13P4eicz1dP32TQH+Jj9+2naJ3sGhHhPbe0cX5kjivj8zkeobP5+5du0lpbwes769fd5j23ttLd6OZP/vkKsXgih6NzNrMLS3zxmWF+6mgLXY2edbd76NReIrEE//DyzRyObm0KVii+eW6M+UiM979uz4bb3bK3jjf2NPA3PxpgcSmeo9E5m0gszv/31FVua6/jnoNNG277wIndFLmEr1vgYnEK47OLPN3n5z23tr7G5ZRKcZGLj923n77JIP94ZjSHI3Q2X3zG8FD86lvWtiZMDu+u4VhbDY++cCPv7r+CFYovPX+drkY3pzaYUZl8+C09TM5H+NqL+maVCZ7pDzAxF+FX7upGZONcfa+njLfsa+QfXx7RQe0M8diZERIK/vUtm6df3nd4F12Nbh47M5KDkTmfcDTGZ58e4q37G7eUevzQqb1cHp/n5TwHtQtSKK6Mz/PS9Rkeet3eTW9UYARWj7bW8BXtK88IT12apKKkiDt7vVva/j23tjExF+GZ/kCWR+Z8lFJ8/aURbtlbu6Hbw0REeNvBZp4dCDC/mH9fud35zsUJpkJRPvTmja0Jk3cd301laRGPPp9f13dBCsWXnr9OaZGL964TxF6NiPD2Q82cuzmLPxjJ8uicjVKKpy5NcGevdzkddjPuOdhEVXkxX39JW3TpcnFsjisT87xnC9aEyd0HmliKK350TafKpssPrvqorSzZkicDwFNWzIMndvNPZ8eYy6NQF5xQLC7F+fpLN7nvyC7q3esHsVdz134jffZH13zZGlpBcHl8ntHZRe45sHFsIpXykiLeeWw33zo/Tkhnn6XF118aoaRIeOexrRdy3dZeR01FCU9dmsziyJxPIqH44VUfb+ptXDeBYy0eOrWXhaU4j+UxTlRwQvHMQIC5xRjvvXV75fFHdtfg9ZTygytaKNLhqUtGquXd2xAKgPfe2srCUpxvnx/PxrAKglg8wWNnRrj7QBN125gkFRe5eOv+Rr53ZVLHidLg4tgc/mCUt6xRs7URR1tr2Nfs4dvnx7I0ss0pOKF4tj9ASZHw+s6GbX3P5RLe3NvID6/5SeiLZcd899Ikx9tqaKou39b3bmuvY299Jf+og6o75un+AP5glPfcujWXayr3HGxmKhTlzI3pLIysMPj+FcMie/M2hUJEeGOPl9ND00Ri+cm8LDih+El/gFv21u2oM+xd+xuZCkV5ZWQ2CyNzPr75CGdvznDPweZtf1dEeNuhZp4fnMrbxWJ3nu7zU1rkWrMLwWa8eV8jxS7hu9r9tGN+cNXHkdZqGqvKtv3dO7q9RGIJXr6en+ynghKK2fASF0Znub1re9aEyZt6GxGB72v304743pVJlGLT2on1ONVZTySW4NxNLdQ74bmBAMf31Gw5iSCVmooSXtdRz79oodgRswtLvHR9hrfs2/m57xLylvlXUELx3GCAhII7uncmFPXuUo611fKDq/pi2QlPXZqgpaacQy3VO/r+qQ4jU+T5wZy1A3MMwUiM86Nz23a5pnLPwSauTMxzYyqcwZEVBk/3+Ykn1HJSzHapqSjh8O4aLRS54JmBAGXFLk7srd3xPt6yr5EzN2Z0R9ltsrgU50fX/Nx9oGlLtStrUecuZX9zFc9podg2Lw1PE0+oLadlroXpMjQTEjRb5wdXfFSVF3PLnp3fe+7obuDlG9MsRHPvei0soegP8LqO+td0Kt0Od+1vJKHQOeXb5NmBAOFonHt3EJ9I5fVd9bw4NKV7D22T5wYDFLlkuZ31Tuj0uulqdPPUZW1RbwelFD+46uNNvV6Ki3Z+y31DdwNLccWLw7lPKCgYoQgEI1wen+f2HbqdTI631VJbWaLjFNvkmQEj2yzd43+qs55QNM6F0bkMjawweH5wiiOtNWt2it0Ob9nXxPODUyxpod4yVybmGZ9b3HF8wuR1HfUUuyQva4QUjFA8O2C4K9K9URW5hDf1NvKDqz6dJrsNzlyf4dDunQVSUzFdJ88N6nYeW2VxKc7ZG7O8IQ23k8kte2uJxBK6m+82MGuvtpsWuxpPWTHH2mp4ZiD3537BCMUzA37cpUUcbU1/DeA7exrwByMMBUIZGJnzicWNTKV0/LMmTVXldHndOqC9DV6+PkM0nkgrPmFyIvk3fPm6rqfYKs8PTtHT5GFXzfZqh9bi9u4Gzt2czfn6OAUjFD/pD/C6znpK0vARmhxPXixnb1pjmUKrc3UiyMJSnFvSSCJI5VRnPc8PTukq4S3y3GAAETjZkb5QtNVV4PWU5b2bqV1QSnH25gzH2zJz7t/R7SWeULyQ44lSQQjFxNwiA77QjtNiV9PbVEVlaRFnb+h8/q1grvt7IgMWBRgB7bnFmHZ/bJHnB6c4uKuamoqStPclIpzYU2uZtZytzujsIv5glBN70vdkgNGhoLTIlXP3U6bWzL5fRK6ISJ+IfHyNz/9URM4kH1dFZCbls3jKZ49nYjyrMXOPb+/aWlvrzShyCUd212iLYoucuTFNvbuUvfWVGdnfqWQtgI5TbE40luCl69O8vit9a8Lklr21DPhCllii0+qcTQrqsQxZFOUlRZzYW5vzgHbaQiEiRcCfA+8ADgEPicih1G2UUr+hlDqhlDoB/Bnw9ZSPF8zPlFIPpDuetTg9PEVVWTGHdu+s0GstjrXVcHF0Tmd/bIGXr89wYk/tjusnVtNaW0FbXYWOU2yBV0ZmWFxKbLjk6XYxY01n9ERpU87enKGkSDjQUpWxfb6hq4ELo3M57aScCYviFNCnlBpQSkWBR4EHN9j+IeBLGfjdLXN+ZI7DrdXbau27Gcf36OyPrTC/uESfL5gxt5OJGafI9xKRVsfM9juVRkX2ao621SBiZLJpNubsjRkOtVSnVbu1mmOtNSgFl8dzlyKeCaFoBVKXfruZfO81iEg70An8S8rb5SJyWkSeFZF3Z2A8ryIWT3BpbI4jW1h2cDuYwSntftqYczdnUSpz8QmT13fWEwhFGfDrzLONeHF4mt4mz7bWXtmMqvISeps8vKw7yW5IIqE4PzKXMbeTyZFk5ub5EXsJxXZ4P/A1pVRqDXq7Uuok8HPA/xCRNdcIFJEPJQXltM+39WK3fl+ISCyxfHAzxZ76CuoqSzinA9obYqZRHs+wUBxtNfanC+825vzILEfbMnvuA9yyp46zN2a0RbcBA/4gwUiMYxk+/s3VZXg9pZzPYRfrTAjFCLAn5XVb8r21eD+r3E5KqZHkvwPA94Fb1vqiUuoRpdRJpdTJxsatF66YB/NIa+biE2Bkfxxrq9UWxSacuTFDd6M7Ixk3qfQ0eSgpEi5qoVgX33yEyfnIjpswbsSJvbVMh5cYDugGgetxJjmJzLQ1LSIc3l3D+Rye+5kQiheAXhHpFJFSDDF4TfaSiBwA6oBnUt6rE5Gy5HMv8EbgYgbGtMz50VkqSoro9G6+kPx2Od5Ww9WJecJRvTznWiilOHNjhhN7dt5faD1Ki13sa67iwqi26Nbj4phxIzmcYbcrpBTeaffTupy7OYO7tIiuxszfe460VnNtYp7Fpdw0CExbKJRSMeAjwJPAJeArSqkLIvJJEUnNYno/8Kh6ta16EDgtImeB7wGfUkplVihGZjm0O7OBbJPje2pJKO3+WI+b0wv4g9GMFdqt5lBLNRdH57T7Yx1MEc2GRbGv2agl0gHt9Tl7Y4ajbTVZufcc2V1DLKFylkyTkRiFUuoJpdQ+pVS3UuoPk+/9rlLq8ZRtfk8p9fFV3/uJUuqoUup48t/PZGI8JomE4sLoHEcymBabihmkOquLj9bk5QwX2q3m8O5qAqEok/ORrOzf7lwcnaOtroKaysy6/cCoJTrWVqML79YhEotzaWw+YxXZq1kOaOfIonZ0ZfZgIEQ4GudwhgPZJo1VZeyuKeesXnFtTc5cn6G8xMWBXZnLIU/F/Ltq99PaXBydy4o1YXJiTx0Xx+Zy5v6wE5fH5onGExnPeDJpq6ugurw4Z5lPjhaK5UB2Fny0Jsf31HJOB7TX5OzNGY621qTVg38jTAHSAe3XEorEGAyEshKfMDmxp5aluFqOhWhWMO8JxzPUumM1IsKR1pqcTZIcLRQXRucoLXLR25z5YJLJsbZahgNhveLdKpQy/KfZnNFWlZfQ0VCpY0RrcHl8DqXIaDeC1RxO7vvymC46Xc3Zm7M0uEtpra3I2m8caa3h8th8TrpDOFoozo/McqClKiMdY9fjeDJHWrufXs3N6QWCkRj7d2XvRgXGjVALxWsxj8nhLApFa20F7tIiruSwQtgunL0xw7G2moy1rVmLw7uricYTXJsIZu03TBwrFEopzo/MZtX0BjjSZlZJaqFIxczG2J+l+ITJ4d01XJ8KM7eoG9SlcnF0jtrKEloysAbCerhcwr5dVVzWbWxexeJSnH5fMCNr32xELgPajhWKm9MLzC3GMl5ot5rq8hJ215RzbUJfLKlcmciNUJiulUvaqngVF0bnOLy7OqszWjDiRFcm5nWKcgp9k0ESiqxb050NbtylRVzIwSTVsUKRi0C2yb5dVVzNgflnJy6Pz9NWV4EnzTWaN+NwMgaiA6orLMUTXJmYz7o1DbC/uYqZ8JJOUU7h6vIkKXuxUTAsukO7q3NSoe1coRidpdglWZ/RgnGx9PmCxHTL8WWujM9lLS02labqcryeMh2nSKHfFyQaS2Q1kcDEnDVr99MKVybmKS1y0d7gzvpvHd5tLHeQ7dUenSsUI3P0NldRXpK59r7rsa+5imgswfCU7nsDxmI5A75QTkQaDPeTTpFd4WIOAtkm5mRAB7RXuDo+T1ejO6tJNCZHW2tYWIoz6M+uR8OxQnFxLLvFRqmYN8SrelYFGDPaWEJl3Udrcnh3Ndcm54nGtEUHRnyirNhFpzf7M9o6dylNVWXaokjh6kQwZ5Okw8kYbLYtakcKxUw4im8+knUfoUlPkweRlQBuoWNmPOXC9QSGUCzF1bJvuNC5MDrLgZbqrBU6rmb/riq9gFeS+cUlRmYW2Necm3O/0+umyCVZT5F1pFBcmzQOWm9Tbv5Y5SVFdDS49Y0qyeXxeUqKJCczWlhpeqcD2kZaeLZbd6zmwK4qrk3qGB2wnNSyP0dCUVZcRHtDJdcms3vvcaZQJP9YPU25sSgAeps8elaV5Mr4HN2Nnpz4aAE6GtxUlBTpCmFgbHaRucUYBzO4RvNm7N9VTTSWYEivTZGS8ZS749/b5FmeHGcLZwrF5DyVpUVZLZ9fzf5dVQwFwrpBGobrKVduJzDSBLub3PT5dIpyX46taVhxMWqL2jj3c33v2ddcxXAgTCSWvXuPI4WibzJIT5MHVxb6wK/HvuYq4gnFgK+w13CeXVhidHaRfTkUCoCeRg/9WZ5V2QFTKHJpTfc0eXCJTpEFQyx7m6tyeu/pafIQTyiG/Nmz6BwpFNcmgjm9UCAl86nAZ1Xm/z+XFgUYF8vIzAKhSGGvNnhtMkhNRQleT2nOftOM0ekUWeP835/FJqRrYVqP2YxTOE4o5haXGJ9bzKnpDYafvKRICl4oLi/3eMpdMBWgJ/n37i9w91P/ZJDeJk/WW3esRmc+QSAYwR+M5izjyaSr0Y1LyGrmk+OEYsVHm1tVLy120eX1FLxQXBmfo6q8mN1ZbEa3FqYF2Vfg7qc+X+6taTCEYngqXNDrxy9nPOXYmi4vKWJvfXYzn5wnFMk/VjbXoFiPfckGaYXMlfF59jdX5XxG295QSbFLsp79YWUCwQhToWhehOLAriqUyu6s1uosZzzl2KIAw6K2vEUhIveLyBUR6RORj6/x+QdFxCciZ5KPX0r57GERuZZ8PJzuWK5NzlNW7KKtrjLdXW2b/c0ebkwVrp9cKcXl8fmcz6gASoqMSuRCtijyEcg2MV2Nhex+ujIxT01FCY1VZTn/7d5mD4P+UNYWMUpbKESkCPhz4B3AIeAhETm0xqZfVkqdSD4+nfxuPfAJ4PXAKeATIlKXzniuTQbpbvRQlMOsAxPTN1mos9rxuUXmF2M5D2Sb9DQVduaTmR6cD6HYW19JeYmroDOfrubJmgbD1R5LKIYD2cm6zIRFcQroU0oNKKWiwKPAg1v87n3Ad5RSU0qpaeA7wP3pDObaRDAvbidYEYpC7flkzmi783CjAuMGORQIZTWf3Mr0TQapLC1id03ucvhNilxCl9dTsMkESimuTMyzL0dtg1aznPmUJfdTJoSiFbiR8vpm8r3VvFdEzonI10Rkzza/i4h8SEROi8hpn8+35kCCkVhO+6ysZk9yVlWocQqzhqSnMX9CkVBkNZ/cyvQlrelc5vCn0t3kYSDLXUytimlN5yM+ASv95rLlzchVMPufgA6l1DEMq+Hz292BUuoRpdRJpdTJxsbGNbfpz6OPFoxZVW9TVcFmPg34gnjKivPio4WVv3u2+95YFbPQNF90ed3cnF4oyO4EZmymN09CUVFaRFtdhaWFYgTYk/K6LfneMkqpgFLKXALr08BtW/3udriWp9TYVLob3QVbnd3vC9Hd6M6Ljxagu9GYVRViQHt+cYmx2cW8CkV3kwelYChLfnIrs2xN5/H49zZVZW1J5kwIxQtAr4h0ikgp8H7g8dQNRKQl5eUDwKXk8yeBt4tIXTKI/fbkezvi2qSxstTe+txnPJl0NRoVwgvRwptVDfiCdOXJ7QRGPvmeusqCFIp+C9youpLdggtxojTgD1JdXkyDO3cV8avpbfIw4AtlpYtv2kKhlIoBH8G4wV8CvqKUuiAinxSRB5Kb/bqIXBCRs8CvAx9MfncK+H0MsXkB+GTyvR3RNxGkq9Gdsz78a9HVaFwsg/7CuljC0Rijs4vLN4t80dPkKUihyFehaSrmuV+ImWcDvhBdjbmviE+lp8lDNJ7gehZW2izOxE6UUk8AT6x673dTnv828NvrfPezwGczMY5rk0GOtWV/QfmN6PIaF+qAP8ihHCxFaRXMWWS+Mp5Mepo8/LjPTzyh8pIinS/6JoN5t6YrS42K/IECmySBcf7f0dOQ1zH0pqTnZ9qyd0xl9kI0zo3pcM57PK2ms0DNb/PmYM4q80VPk4doLMGNAlu/vG9yng5vZV6taTBcrwMFliIbisQYn1ukO49uV8huGxvHCEW/L4hS+fXRgpF90FpbUXAXS/9kEBGjOWI+Wcl8Kqzj3zcZzPskCYxkjn5fCKVUvoeSM0w3c77drp4yw6LLRtalY4TCnNHmWyjAsCoKzfwe8Idoq6ugvKQor+MoxOaAi0txrk+F8+72A8OiCEZi+OYjm2/sEMwiw848W9NguH6zER91jFAM+kKIGM3h8k1Xo5vBAptV9U8Gl+Mz+aS6vITm6rKCEopBf4iEBaxpWHE9FtJqg4P+kCWsaTAmqdm49zhHKPxBdtfkf0YLhgk6H4nhCxbGrCqRUAz6Q3n30ZoYmU+FU3RnhYwnE/McKKQY3YAvRGutNe49ncl7jz8Yzeh+HSQUobwHUk26CuxiGZ9bZGEpbp3j7/Uw4C8ci850NXTm2UcOsKu6nIqSooI598HIcMxn/VAq5jmQafeTI4RCKcWAP2SJCwVWzO9CuVhMH61VhKLT62Z+MUYglNlZlVUZ9FtnRutyCZ1ed8E0B1RKMegL5T2QbWK6fwcz3HPLEUIRCEWZX4xZRigMF5irYDKf8t0McDWdBVb0aKVJEhRWc8CJuQihaJxui0ySWusqKCmSjCfTOEIorGR6gzGr6mgonMynfDcDXE1nQ+EIhTGjDdLhzX8Sh0khNQccWLamrTFJKnIJ7Q1GQDuTOEMofGYeszX+WGC4YQrFosh3M8DVtNVVUOySghCK6fASc4sxOi107hdSc8B+i01SIZn5pC2K1zLgD1FSJLTW5X7BlvXo8nq4Mb1ANJadpQmtRL6bAa6mONnKYqgAhGLFmraWRQGFEaMb9IWoKCliV3V5voeyTJfXzXAgTDyRuWQORwjFoD9Ie4PbUr19uhrdxBMqKw26rIRVmgGuJhuzKiuyIhTWEepCag444A/S6XXnbbGotej0uonGE4zOLGRsnw4RCmsF8yA1RdbZF4tVmgGuptPrZigQIpHBWZUVGfQHKXYJbRaypgupOaDRNdZa955spMjaXijiCcVQIGy5Ge1yiqzDLxarNANcTYfXzeJSgvG5xXwPJasM+cPsqa+kJM/NAFdTCM0BI7E4N6fDlnK7Qnay/qx1du2A0RkjDmA1i6K6vASvp8zxF8uAzxrNAFfTlaXCI6thtdRYk67kSo9OLnocDoRJKCyTGmvS6CnDU1ashSIVq6XGptJVAMuiDvlDlmmdkkpHAQiFUoohf8hyIg3GxGE+4uyix+XUWAvFhwBEJOONSZ0jFBZTdTBmtU53PQ0GwpbK4TfZVV1OeYnL0UIxMRdhYSluyXPfnLg5OfPMXH7Wiue/kcyROW+GI4TCU1ZMo8caxV6pdDW6mQpFmQk7d1Y1HLDmjNYsenTyjcqsfrZafA4Kw6Ib9Idoqiqjqrwk30N5DZ3JosdILDNFjxkRChG5X0SuiEifiHx8jc8/KiIXReSciDwlIu0pn8VF5Ezy8fh2f9v00Vql2CsVM2VxKODMFNmZcJSZ8JIlhQKcnyI75DfOqw4LCkVbXQVFLmHYoec+GNaSFV3eYExSlYLrGTr+aQuFiBQBfw68AzgEPCQih1Zt9jJwUil1DPga8F9TPltQSp1IPh7Y7u8PJvOYrUhHcm0Mp85qzZuwFW9UYAjF9akwsbgzix4H/UHKil20WKjYy6SkyEVbXQWDDq7OHrKoNQ0pSzJn6N6TCYviFNCnlBpQSkWBR4EHUzdQSn1PKWVK27NAWwZ+N5metmBZodhTX4mIc1sZmLNFK1UFp9LhdRNLKG5OZ67wyEoMJgPZVir2SsXJrr/5xSX8wahlJ0mZdv1lQihagRspr28m31uPXwS+lfK6XEROi8izIvLu9b4kIh9Kbnfa5/MBhlmllPVy+E3KS4rYXVPh2IvFXNlrT701hWI5RdahQm3FQtNUOpOtJJyYImtOkjossKLmWpjp+ZlqDpjTYLaIfAA4CfxxytvtSqmTwM8B/0NEutf6rlLqEaXUSaXUycbGRmDFrLLyxdLhrXRsjGIoYKTGlhVbKzXWZHlW5cAU5Vg8wfWpsGVntGAsSxzMwmprVsD0Elj5+Bam6+4AACAASURBVHdlMEaXCaEYAfakvG5LvvcqRORe4HeAB5RSy2uEKqVGkv8OAN8HbtnqD1vdRw7Q3uB2rOvJysE8gAZ3KVXlmS08sgqjM4ssxZUlM55MzOvSiee/aVG0W9SiADJaS5EJoXgB6BWRThEpBd4PvCp7SURuAf4aQyQmU96vE5Gy5HMv8Ebg4lZ/eMgfwusppdqC6WkmnQ1uZsJLjkyRHbJoDYWJiNDldaZQm6mxVqyhMHHyuiCD/hDN1WVUlhbneyjr0uF14w9GmF9cSntfaQuFUioGfAR4ErgEfEUpdUFEPikiZhbTHwMe4Kur0mAPAqdF5CzwPeBTSqmtC4WFsw5MzBmH09xP06EoswvWTY016fA6szp+2Zq28PFvXU6Rdd7xHw6EaLfwsYeVJJNMpChnRA6VUk8AT6x673dTnt+7zvd+Ahzd6e8O+cO8sce706/nBNP8Hg6EOLGnNs+jyRxmgNjKNyowzO/Hz46yuBS3XJuRdBjyh6gqK8brKc33UNalpMjFnrqK5XoPJzHoD3P3gcZ8D2NDTCEbCoQ40lqT1r5sW5m9EI0zPrdo2awDk73JFFmnmd/DNgjmgSEUSuG4dUEG/CE6LFpomkqHA4sejQB9xPLnvunNyIRFYVuhMC/8dov/scpLimipLndcheqgP4xLYE+9ddZBWAvT4nFaivJwwNoZTyYdyWQOJ6XIDtnA7QfGuiBNVWUZOfdtKxTL6WkWtyjAmbOqIX+I3bXWTY01MS9mJwl1NJbg5nTYHud+QyXhaBxfMLL5xjZhpYbC2kIBxhgL2qIwXR/t9db/Y7U3uB0X0BsOWDs11qSmsoTayhJHZT6NzCyQUFg+mAopKbIOilOY55KVU2NN2hsqM3Lu21YohgJh6ipLqKm0bmqsSae3kunwErPh9NPUrIBSikF/yBYXCphC7bwblT0sCue5/oaSXWPdZdZNjTXp8LqZnI8QjsbS2o9thWI4ELKFjxZenX3gBKbDS8wtxmxheoNxQ3XKsQcY9pszWusf/7a6Copd4qzjHwjb6NzPjOvVtkIx5LfPH6vTYRWq5v/DDq4nMG6oozOZ682fb4YCYdylRZZOjTUpLnKxp95ZQj0YCFm60DSV9gx1sLalUCgFo7MLtnF97K03/1jOcH8M2WhGC4ZFkVA4pousWexl9dRYk/aGSgYdcu6HIjF88xHbnPuZKvi1pVBE4wmUskfWAZhdZMsdM6sa8odwyYoAWp32hpWiRycwbPHWKavpSCZzOCFF1m7WdFV5CV5Padrnvi2FwnQh2MWiAGc1BxwKhGmtq6C02B6nz8oCUvaf1cbiCW5Mh20zowXjphqOxvHN2z9F1g7NAFeTiXuPPa70VURjxopldrEowMg+cErmhx16bKVS7y6lqqzYERbF2KzRNdYOGU8mTlo/2w49tlbT3lBZmMHsaCxBTUUJdW7rB/NMOhqckSJrpsba6UIREdodsi7ISg6/fY5/RwZbSeSb4UCIRpukxpp0NrgZm11kcWnnyRy2FIpILGGrGRU4J0V2JrzE/GLMVqY3OKfocchGVcEmrbXOSZE1si1tdu4nLbp0+p3ZUiiisYStZlTgnBTZlWIvex3/joZKbk4vsBRP5HsoaTHsD1Fe4qKpqizfQ9kyxUUu2uoqHGFR2M3tCisWXTquP3sKRdyOFoUzAqrLfW5slHUDhrDFEorRGXunyA4li71cLnukxpo4IZkjHI0xOW/9rrGrMdscpWNR21IowF4+WjBSZHdVlzM8Ze+LZTgQRgTa6mwmFMsWnd2F2j6tU1LpaKjkeiBs6xRZO2Y8gdHvrK6yJK1z37ZCYbcZLWQm+yDfDAdC7K6psN0iQCu9+e0r1ImEYnjKPh0JUmlvcDMfiTEVsu+SwMM2dbtC+jE62wqF3SwKWCk8sjNDNp3RNnrKqCwtsrXrb3xu0ZbxOViZ2NnZojPHvteG539HQ2Va535GhEJE7heRKyLSJyIfX+PzMhH5cvLz50SkI+Wz306+f0VE7tvSoEVosFFqrEm7txJ/MJqRxc7zxXDAXsVeJiJi+8wnO3WNXY0TquOHAyEa3KVUl1u/Y/VqOrxuRmd3Hp9LWyhEpAj4c+AdwCHgIRE5tGqzXwSmlVI9wJ8Cf5T87iHg/cBh4H7gL5L725CyYpdt+tykYvdFdOYWlwiEora0KMD+XWSXfeQ2C6aC0UVWxOYWhT9s43PfWBJ4p2TCojgF9CmlBpRSUeBR4MFV2zwIfD75/GvAPWLc6R8EHlVKRZRSg0Bfcn8bYpfWEavJ5Bq2+eD6cg6/PS+W9gY3N6YWiCfsGVAdCoQoLXbRUl2e76Fsm7LiInbXVNjeorBjfALSD8Bn4o7bCtxIeX0z+d6a2yilYsAs0LDF7wIgIh8SkdMicjoRXczAsHOP3Yvu7FgVnEpHQyXReIKxNEzwfDLsD7O3vtJ2qbEmHTaujl9cijM6u2jjc9+d1gTPNlNzpdQjSqmTSqmTHbvq8z2cHeEpK8brKbPtrMqu6YEm7TZ3/RnFXvY89mDv6vgbU/asHzKpc5fy/Y+9dcffz4RQjAB7Ul63Jd9bcxsRKQZqgMAWv+soDD+5TW9UySUgK0vt0+cmlZXMG/vdrJRStk0kMOloqGQmvMRM2H4pskPLkyT7Hv90yIRQvAD0ikiniJRiBKcfX7XN48DDyec/DfyLMipvHgfen8yK6gR6geczMCbLYudZlZ2WgFyL5qpyyopdtuziOzkfYWEpbltrDuxt0Q3bOOMsE6QtFMmYw0eAJ4FLwFeUUhdE5JMi8kBys88ADSLSB3wU+HjyuxeArwAXgW8DH1ZKOWO9ynXoaKhkYi79xc7zgV1rKExcLqHdphbdkA3bW6+mw8YxuqFAiJqKEmor7ZeWnwky4kNQSj0BPLHqvd9Neb4IvG+d7/4h8IeZGIcdSO3keGBXdZ5Hs3Xs2udmNXa16IZt2DV2NeaKiPa0KOzXNTaT2CaY7RTsutqa2aLYzhYFGF18hwNhEjZLkR0KhCgpEnbX2i811qSiNNnvzIZCMZRcp7xQ0UKRYzLRyTEfmMJm5xktGEIXiSUYn7NXivVQIMSeukqKi+x9yRr9zux17kdjCUamF7RFockdmejkmA/Mi9uOfW5Ssauf3M5Vwal0NLhtd+7fnA6TUIWb8QRaKPKCHf3kQ4GwbfvcpGLH6ngjNdYZrg+j31mEYMQ+yRx2XYMlk2ihyAMdNmw3PhwI2d6aANhdU0GpzVJkfcEIoWh8eZVEO2NH1+uwzTsSZAItFHmgvcHo5BiJ2ScT2O41FCYul7C33l7NAe1eEZ+KHS26oUAYT1mxLTtWZwotFHmgw1uJUnBjyh49h4w+NwuOuFGB/Sw6J9RQmCwvCWwroTbqh+zYsTpTaKHIA3brzX9zOoxSzpjRwsr6zXZZlnM4EKbIJbTWVeR7KGlTVV6C11NqK9efU6zpdNBCkQdWMm/sMasddEhqrEmH183iUoKJuUi+h7IlBgMh9tRVUGLz1FiTdhtlPsXiCW5MOyPjLB2ccebZjLrKEqrKi21jUZizPycEUyGl6NEmx98pGU8mHQ1u21gUY7OLLMWVYyZJO0ULRR4wluWsZNAmF8tgIERtpXP63HTYyPWnlGLY76z2EZ3eSibnI4RskCI75JD6oXTRQpEnjFoKe5jfQ377ruy1FrtrKygpkmWXmpUJhKLMR2K277GVivl/sYNF56REgnTQQpEnurxubk6HicYS+R7Kpgz5Q45xOwEUuYQ99fZoJbHS3to5x385RmcDoR70h6koKaK5uizfQ8krWijyREeDm4RaabZnVcwlIJ10owL7tJIwb6ZOCqbayaIY9Afp8LoLOjUWtFDkjeWLxeJxCqe2LzCb01k9RXY4EMIl0FbnnOPvKSumsarMFjG6oUCYToed+ztBC0We6LLJrGrQYRlPJp1eN+FoHN+8tVNkBwNh2uoqKS121qXaaYN+Z7F4ghtTYced+zvBWWefjahzl1JTUWL5WZUpZE4KpsJK0aPV3U9mVbDT6PBWWj6Z4Ob0ArGETo0FLRR5pcPrtrxFMeQPOaJr7GrsUEuhlGLQYRlnJh1eN/5ghPnFpXwPZV2cak3vhLSEQkTqReQ7InIt+W/dGtucEJFnROSCiJwTkZ9N+exvRWRQRM4kHyfSGY/d6GyoZNBn3RsVGBeL06wJgNbaCopdYukY0XR4ifnFmCMtis7lWhbrWhWmUDjx/N8u6VoUHweeUkr1Ak8lX68mDPyCUuowcD/wP0SkNuXzjymlTiQfZ9Icj63o9HoYnV1kccm6XWSHAs6c0RYXuZIpsta9UZnWjhNntObN18qu16FAiKrywu4aa5KuUDwIfD75/PPAu1dvoJS6qpS6lnw+CkwCjWn+riMwM4mserMKR2NMzEUcm/XR3mDtduNOXgdhpZbCusd/MFk/VOipsZC+UDQrpcaSz8eB5o02FpFTQCnQn/L2HyZdUn8qIutWtYjIh0TktIic9vl8aQ7bGnRafFa1khrrvBsVGDerQb91U2QHfUZq7J56+3eNXU1FaRG7qssZtLBQOzU+tBM2FQoR+a6InF/j8WDqdsq42ta94kSkBfgi8G+VUmY58m8DB4DXAfXAb633faXUI0qpk0qpk42NzjBIrF545PT2BV2NRorspEVTZAf8IdrqKikrLsr3ULJCh7fSshZFJBZndGbBsZOk7VK82QZKqXvX+0xEJkSkRSk1lhSCyXW2qwa+CfyOUurZlH2b1khERD4H/Kdtjd7mVCd781s1oD3o0NRYky6vB4ABX4jm6vI8j+a1DPpDdDU689iDYVE/eWEi38NYkxtTYRJqpd6p0EnX9fQ48HDy+cPAY6s3EJFS4B+ALyilvrbqs5bkv4IR3zif5nhsR0eD27Lm95A/RGNVGZ6yTecTtqQzeRMe8AfzPJLXYqbGOjGQbdLR4GYqFGV2wXopsstrsDj4+G+HdIXiU8DbROQacG/yNSJyUkQ+ndzmZ4A3Ax9cIw32/4jIK8ArgBf4gzTHYzs6vNbtzT/kDy+nMTqRlupyyktclrToJuYihKNxR89ozZuwFSu0B5OTByef/9shramiUioA3LPG+6eBX0o+/9/A/17n+3en8/tOoNPr5msv3iQUieG22Mx9MBDirfudEQ9aC5dL6GhwM2BBoR7wGTeqrkZPnkeSPVKTOY611W6ydW4Z9Iepd5dSU+msQtOdoiuz84xVM5+CkRi++YjjTe+uRrfljj2wLF5Odj3tra9ExJrtxo01WJyZFr4TtFDkmZX1s611s1pe/tThpneX18P1qTBLcWutCzLoD1Fe4mKXBYPsmaK8pIjdNRWWO/chWWjqYJHeLloo8oxZdGe1OIVTmwGuptPrJp5QllsXZMAXpNPrweVydrGX0RzQWuf+QjTO2Oyi4ydJ20ELRZ6pLC02Co8sZn47vYbCxEw/tVpAe9AfcnQg28RYQMpax365dYqDU5O3ixYKC9DhtV4riQFfiJaacipKnVnsZWLGAKyUIhuNJbgxveDoGgqTrkYPM+ElpkLRfA9lmUKZJG0HLRQWoNNrvYBqvy9IT5NzM25MaitLqXeXWur4X58KE08oRweyTbqTYtjvs45QO73QdCdoobAAVis8UkrR7wvR7eDUzFS6vG76LeR6MlNjC0MojHOsf9JCQuFzdqHpTtBCYQHMXPkBi8yqJucjBCOx5dme07GaRWeOxWwx4mRaaysoK3ZZyqIYcHhF/E7QQmEBVsxva9yszNldwVgUjR5889ZZbW0wuapgIRR7uVxCV6PHMue+Uoq+ycJwu24HLRQWYG99JaVFLvosYn6bs7vuArlYrFb0OOBzdjPA1XQ3ui1jUQSSLuCeApkkbRUtFBaguMhFh7fSQkIRwlNWTFPVusuDOArTorOMUBSY66O70cONqbAlVno0r0FtUbwaLRQWobvRY5kYRb8vSFdj4azstbfBaCVhBffH3OIS/mCEzgKIT5h0NbpJKGus9Fho1vRW0UJhEXqaPAxPhYnG8t9Kon8yWDDxCYCy4iLa6iosYVGYhX+F5XpKZj5ZYKLUNxmksrSIFge3TtkJWigsQnejh3hC5b3wLhSJMTq7WDAZTyZdXs9ya+l8spLxVDjH3xRFK6TI9k0a1rTTW6dsFy0UFsH0ieb7YjFvVIVkUUAyRdaX//WzB3xBXGK4wwqFytJiWmsrLGFRDPhCOpC9BlooLII5q8p3QLtQfbTdjW5CFlg/2+nrZK9HV2P+ix5DkRgjMws6kL0GWigsgjmr6svzrKp/0pjRthfQjBZWih7zbdH1+wor48mku9FDvy+YV4tuwFeY1vRW0EJhIbqbPHk3v/t9IfbWF96Mtjc5i7w6MZ+3McQTin5fkH3NhXej6m7yEI7GGZ9bzNsYzGtPWxSvJS2hEJF6EfmOiFxL/lu3znbxlPWyH095v1NEnhORPhH5soiUpjMeu9PT6KF/MkQikb9ZVb+vsDKeTBqryqipKOFqHi2K4UCIaCxBb3NV3saQL5a7E0zmz/3UNxmkyCW0666xryFdi+LjwFNKqV7gqeTrtVhQSp1IPh5Ief+PgD9VSvUA08AvpjkeW9Pd5GZhKc7o7EJefj+eUAz4QwUXnwAQEXqbPFzLo0VxdcIQqX0FKBQ9FkiR7ZsM0l5fSWmxdrSsJt0j8iDw+eTzzwPv3uoXxajmuhv42k6+70RWLpb8zKpGpheIxhIFlxpr0ttcxdWJ/PnJTZHqLUChbqwqo6qsOK9C0e8LFuQkaSukKxTNSqmx5PNxoHmd7cpF5LSIPCsiphg0ADNKqVjy9U2gdb0fEpEPJfdx2ufzpTlsa2KepPnKfFrOeCpA1xPAvmYPswtL+IL5yXy6NhmktbYCdwG2txYRuvIYo4vFEwwFCqe1/nbZ9IwUke8Cu9b46HdSXyillIisNxVrV0qNiEgX8C8i8gowu52BKqUeAR4BOHnyZH6T3bNEg7uU2soSLRR5wnT5XJsI0lSV+8rcqxPzBRnINuludPOTvkBefnt4KsxSXOlA9jpsalEope5VSh1Z4/EYMCEiLQDJfyfX2cdI8t8B4PvALUAAqBURU6zagJG0/0c2RkSMgHaeZlX9viD17lLq3IWZU9DbnL/Mp1g8wYAvVJDxCZPuRg/jc4sEI7HNN84w/boZ4Iak63p6HHg4+fxh4LHVG4hInYiUJZ97gTcCF5XhCP4e8NMbfb/Q6G705C2Xv38yVLDxCYBGTxm1lSXLQeVcMjwVJhovzIwnk+48LuBl1i8VUo+t7ZCuUHwKeJuIXAPuTb5GRE6KyKeT2xwETovIWQxh+JRS6mLys98CPioifRgxi8+kOR7b09PkIRCKMp3jxeaVUlybnC9YtxMYFt2+pqq8ZD6Zv1nIrqee5VqWPAjFZJDm6jKqy52/WNROSCtqppQKAPes8f5p4JeSz38CHF3n+wPAqXTG4DS6m1YWmz/prs/Z707OR5gOL3FgV+HOaMFwP/3T2VGUUjlts27eHAtZqDsajNTUK+NzOf/tQlojfifohGGL0dNo3KhzHdC+NGZcnAdaqnP6u1ZjX3MVc4uxnPd8ujoxT1tdYWY8mRQXudjX7OHyeG4tOqUU/Xr50w3RQmExWusqKC9xcSXH7g/z4tQWRX4C2tcmggUdyDY5sKuaS2O5Pfajs0YAvRDrV7aKFgqLUeQS9u+qXp7h54rLY3O01JRTW1mYGU8m5s06l37ypXiCAX9wWaQKmYMt1fiDEXw5tOgujc4t/7ZmbbRQWJBDLVVcGpvPaYXw5fH5grcmALyeMurdpTkNaA8HQizFFfua9PE/mDwHr+TQ/aTdrpujhcKCHGqpZnZhibHZ3HTSjMYS9E0G9YWSpLfJk1PXUyH3eFrN/qRQXM5hQPvS+BztDZV4Cjg+tBlaKCyIaQJfHM3NxdLvCxJLKG1RJNnXXMW1HPZ8ujoxj4gu9gJo8JTRVFWW0zjFxdE5Du7Sk6SN0EJhQcyZfa7iFObsTftoDfY1e5iPxHK2NsK1iSB76iqpKC2sNUDW40BLdc4silAkxvBUWJ/7m6CFwoJ4yorZW1/JpRxdLJfH5iktchXkympr0dOU24B2ofd4Ws3BXYZFF4snsv5bl8fnUQoOtmhreiO0UFiUQy25SxO8ND5PT5OHkiJ9OsBKdXQuAtrRWIJBf6igW3es5kBLFdG4cVyyjWm1H9qtLYqN0HcGi3KwpZqhQIhQDhqkXR6b44CeUS3T4CnD6ynLSeHXgN+ID+3XQrHMgWS84FIOjv/FsTmqy4316jXro4XCohxsqUIpsn6zCgQjTM5HOKR9tK/iSGs150e21Ql/R7xyczb5ezVZ/y270N3oodglXM5BjO7S2BwHWqpz2q7FjmihsCimKZztgPaV5YpsLRSpHGut4erEPAvReFZ/55WRWdylRXTp+NAypcUuepqy38ojkVBcGZ/Xk6QtoIXCorTWVlBdXpx1oTDNe+16ejVHWmtIKLg4ll2r4tzNWQ631uBy6RltKgd2VWXdohieChOOxrVQbAEtFBZFRDjQUs3FLF8sl8fm8CZ98poVjrXVAiuuoWywFE9waWyOY9rt9BoOtFQzOrvIbHgpa79xUbfu2DJaKCzMoZZqrozPk0hkr/Dr8vi8Tg1cg+bqMhqryjiXxTjFtYkgkViCo21aKFZzIAcV2pfG5ihyie6xtQW0UFiYQy3VhKNxhqfCWdl/LJ7g6oTu8bQWIsLR1pqsBrTNfR/VFsVrMGf52YxTXBqbo7vRTXmJLnTcDC0UFuZgliu0hwIhIrGEDmSvw9HWGvomg1lLUT43MkNVWTEdDTqQvZqmKqM5YzZjdJfG5rTbaYtoobAwvc0eilyStZ5PZ2/o1MyNOLoc0M7O8X/l5iyHW6t1IHsNRITDu6s5m6UY0Uw4yujsohaKLZKWUIhIvYh8R0SuJf+tW2Obt4rImZTHooi8O/nZ34rIYMpnJ9IZj9MoLzHSJrM1q3rx+jRVZcV6wZZ1MGMH2QhoR2MJLo3PLwfNNa/l1r11XBmfI5gFi84Ufy0UWyNdi+LjwFNKqV7gqeTrV6GU+p5S6oRS6gRwNxAG/jllk4+ZnyulzqQ5HsdxeHc150Zms9LJ9KXhaU7srdUz2nVori6nubqMV7IQp7g6MU80ltDxiQ24rb2OhIKzN2Yyvm8zPqRTY7dGukLxIPD55PPPA+/eZPufBr6llMpOdNaB3NZRj28+wo2phYzud35xiSsT89y69zVGoCaFo601nLuZ+RvVKzqQvSkn9tYiAi8OT2d83y8MTdPRUEljlU4L3wrpCkWzUmos+XwcaN5k+/cDX1r13h+KyDkR+VMR0X+1Vbyuw7iRnx6eyuh+z96YRSlj1qZZn6OttQz4Qxl3f7wyMktVeTHtDZUZ3a+TqC4vobfJw0vXMysUSileHJ7mZEd9RvfrZDYVChH5roicX+PxYOp2yvCNrOsfEZEW4CjwZMrbvw0cAF4H1AO/tcH3PyQip0XktM/n22zYjmFfUxVV5cW8MJTZi+XF4WlEjFmbZn2OtdWgFFzIsPvplZuzHGur0T2GNuG29jpeGp7OaC3RgD/EVCi6PAnTbM6mQqGUulcpdWSNx2PARFIATCGY3GBXPwP8g1JqudRSKTWmDCLA54BTG4zjEaXUSaXUycbGxq3+/2yPyyXc1l7H6aHMWhQvXZ9mX1MV1eUlGd2v0zAzwjIZp4jE4lwen9PZZlvglr11zC3GGPBnbm0Q81q6rV1bFFslXdfT48DDyecPA49tsO1DrHI7pYiMYMQ3zqc5Hkfyuo56rk0GmQ5FM7K/RELx8vVpbm3X1sRmNFaV0VJTnlGhuDoeZCmuONaqj/9mmK7Rl4YzFyd6YWiausoSuht1/cpWSVcoPgW8TUSuAfcmXyMiJ0Xk0+ZGItIB7AF+sOr7/0dEXgFeAbzAH6Q5HkdyMnmxZCqo1+8LMrcY04HsLXKktYZzGUyRPTdi3PR0IHtzurxuaitLMhrQNuMT2u23dYrT+bJSKgDcs8b7p4FfSnk9BLSusd3d6fx+oXB8Ty0lRcILw1Pce2izfIHNMYODt+pA9pa4rb2O71ycYHJukabq8rT399zAFF5PGXvq9WI5myEi3LKnNmMBbd98hEF/iIdO7cnI/goFXZltA8pLijjaWsOLGQpovzg8TW1liV4DYYvc2eMF4Md9/rT3lUgonu7z86Zer57RbpHb2uu4NhnMSCfZF5PZgzrjaXtoobAJJzvqOXdzlsWl9BfSeen6DLfurdM3qi1yqKWaencpP76WvlBcGp8jEIryxqT4aDbHdJG+fCP9idILQ9OUFbs4slu7/baDFgqbcLK9jmg8kXZQdSYcpW8yqOsntoHLJdzR3cCP+/xpV8g/nbRK7tRCsWWO76nFJUYngXQ5PTzN8T21lBbrW9920EfLJpg39hfSTJN9OdkO4RZdP7Et3tTrZXI+wrXJ9NI0f3TNT2+Th1016cc6CgV3WTEHdlXz0vX0Mp/C0RgXRmZ1/cQO0EJhExo8ZXQ3ujmdZpzixaFpXALHdTO6bXFnr1G786M03E+LS3GeH5zizl5tTWyXW9trOXNjhlg8seN9nLkxQyyhdHxiB2ihsBGv66jn9NBUWlWqT12e5Na9dbjL0kp4Kzhaayvo9Lr58bWddwV4cXiaSCyh3U474M4eL8FIjOcHd25Rnx4yuhHotPDto4XCRpzsqGduMcalHS4PeT0Q5tLYHPcf2ZXhkRUGd/Z4eW5wimhsZ7PaH/f5KXYJr+9qyPDInM+b9zVSXuLiyQvjO97HswMB9jdXUVOhuxFsFy0UNuKufY24BL71ys4uFvMiu++wFoqdcGevl3A0zss7zOn/8TU/t+6tw6OtuW1TWVrMXfsaefLCxI4san8wwnODU9xzsCkLo3M+WihsRGNVGXd0e/nGudEdZd98U3ZWhwAACe9JREFU+8I4h1qq2VOvO5buhNu7G3DJzuoppkNRzo/O6vhEGtx3eBfjc4uc3UHb92+dHyeeULzr+O4sjMz5aKGwGe881sJQIMz5ke25nybnFnnp+rR2O6VBdXkJx/fU7iig/XS/H6XQ9RNpcM+BZopdwpMXJrb93W+cHaWnycP+5qosjMz5aKGwGfcf2UWxS/jGudFtfe+fL06gFFoo0uRNPV7O3ZxhdmF7VcJP9/mpKi/meJsu9NopNZUl3N7dwLfPj23Lop6YW+T5oSneeaxFF5nuEC0UNqO2spQ7e71849z2LpYnL4zT6XXr9bHT5M37Gkko+O7Frc9qo7EE3700yR3dDRQX6UsuHe47vIuhQJirE1uvZ/nmuTGUgnce026nnaLPWhvyrmO7GZlZ2HIB0mx4iWf6A9x3eJeeUaXJbe119DR5+NufDG1ZqL91fgzffIT3n9qb5dE5n7cfakaEbWU/fePcKAdbqunRk6Qdo4XChrztcDOlRa4tu5+eujxBLKG02ykDiAgfvKODV0Zmt9z6+rNPD9HldXNXb+EsuJUtmqrLuW1vHd8+vzWhuDkd5qXrM7zzWEuWR+ZstFDYkOryEu7a38gTr4xtKVXw2+fH2VVdzjG9/kFGeM+trVSXF/O5p4c23fal69OcvTHDB9/YgculrblMcN/hXVwcm+PGVHjTbb95bgwwrHDNztFCYVPeeayFibnIpr2f+n1Bvndlkncc3aVvVBmisrSYh07t5dsXxhmdWdhw2889PURVeTHvvbUtR6NzPvcf2YVL4NM/Gth022+cG+NYWw17G3RKeDpoobAp9x5sprK0iL/4fv+6vnKlFL/3+AXKS4r41bf05HiEzubnb29HKcUXnhled5vx2UW+9coYP3tyj26ZkkH21FfygTe088Vnh7kwun435R9d8/HKyCwP6NqJtNFCYVPcZcX85/v284OrPv7u+etrbvOt8+P86Jqf33zbPhqrynI8QmfTVlfJfYd38aXnr7MQXXuNkC8+O0RcKR6+oyO3gysAfvNt+6mrLOV3H7uwpvt1NrzEx756jp4mDx94Q3seRugstFDYmF+4vYM7e7z8wTcuMegPveqzUCTG73/jIgdbqvWFkiU+eEcHswtLfGkNoZ4JR/m7565z78FmXQmfBWoqS/j4Ow7w4vA0f//Szdd8/l8eO48/GOFPf+YE5SVFeRihs0hLKETkfSJyQUQSInJyg+3uF5ErItInIh9Peb9TRJ5Lvv9lESlNZzyFhssl/PH7jlFSJHz0K2de1YL5z/6lj7HZRX7/wcM6dz9LnOqs5w1d9XzyGxf579+5Sjw5sz0/Msu7/tePCUZi/PJd3XkepXN5761t3NZex6e+dflVy6T+09lRHj87yq/f08tRXeCYESSdFbtE5CCQAP4a+E9KqdNrbFMEXAXeBtwEXgAeUkpdFJGvAF9XSj0qIn8FnFVK/eVmv3vy5El1+vRrfqpgeezMCP/h0TO881gL1RUljM0s8KNrft59Syt/8r7j+R6eo1lcivM7/3Cev3/pJnfta+TeQ838wTcuUldZyl9+4FZu0S2ts8qF0Vne9Wc/pqfJw8GWalpqKvjS89fp9Lr52i/fridJqxCRF5VS607q1yOtCJtS6lLyxzfa7BTQp5QaSG77KPCgiFwC7gZ+Lrnd54HfAzYVCs2reeD4bn7SF+DLp29Q7y6lpaacf3Wshf/7pw7me2iOp7ykiD953zFuba/l9x6/wA+u+ri9q4E/+7lb8Hp0XCjbHN5dwx+8+yj/eGaEl65PMz47Rk1FCf/9Z45rkcgguUjFaAVupLy+CbweaABmlFKxlPdb19uJiHwI+FDyZUREzmdhrHbECyx3qRsGXk4+/595GU5eedWxyBfDwKP/V75HYY1jkS+6/8urXhb0sVjF/p18aVOhEJHvAmuV9P6OUuqxnfzoTlBKPQI8khzT6Z2YT05EH4sV9LFYQR+LFfSxWEFEduSz31QolFL37mTHKYwAe1JetyXfCwC1IlKctCrM9zUajUZjIXLhxHsB6E1mOJUC7wceV0YU/XvATye3exjImYWi0Wg0mq2RbnrsvxaRm8DtwDdF5Mnk+7tF5AmApLXwEeBJ4BLwFaXUheQufgv4qIj0YcQsPrPFn34knXE7DH0sVtDHYgV9LFbQx2KFHR2LtNJjNRqNRuN8dP6YRqPRaDZEC4VGo9FoNsTSQrFe64+Uz8uSrT/6kq1AOnI/yuyzhePwURG5KCLnROQpEXFsc6fNjkXKdu8VEbVRaxm7s5VjISI/kzw3LojI3+V6jLliC9fIXhH5noi8nLxOfiof48wFIvJZEZlcr9ZMDP5n8lidE5FbN92pUsqSD6AI6Ae6gFLgLHBo1Ta/CvxV8vn7gS/ne9x5Og5vBSqTz3/Ficdhq8ciuV0V8EPgWeBkvsedx/OiF6P+si75uinf487jsXgE+JXk80PAUL7HncXj8WbgVuD8Op//FPAtQIA3AM9ttk8rWxTLrT+UUlHgUeDBVds8iNH6A+BrwD3ivEWhNz0OSqnvKaXM5b6exahJcSJbOScAfh/4I2Axl4PLMVs5Fv8e+HOl1DSAUmoyx2PMFVs5FgqoTj6vAba2jrANUUr9ENhoRbMHgS8og2cx6tk2XCvWykKxVuuP1S0+lrdRRhruLEaarZPYynFI5RcxZgtOZNNjkTSj9yilvpnLgeWBrZwX+4B9IvK0iDwrIvfnbHS5ZSvH4veADyTT+Z8Afi03Q7Mk272n5KTXkyZHiMgHgJPAXfkeSz4QERfw34EP5nkoVqEYw/30Fgwr84ciclQpNZPXUeWHh4C/VUr9NxG5HfiiiBxRSiU2+6LG2hbFeq0/1txGRIoxTMpATkaXO7ZyHBCRe4HfAR5QSkVyNLZcs9mxqAKOAN8XkSEM/+vjDg1ob+W8uInRBWFJKTWI0e6/N0fjyyVbORa/CHwFQCn1DFCO0SywENnSPSUVKwvFmq0/Vm3zOEbrDzBagfyLSkZrHMSmx0FEbsFYE+QBB/uhYZNjoZSaVUp5lVIdSqkOjHjNA2qNdVIcwFauj3/EsCYQES+GK2ogl4PMEVs5FteBe2B5HZ1ywJfTUVqHx4FfSGY/vQGYVUqNbfQFy7qelFIxETFbfxQBn1VKXRCRTwKnlVKPY7T8+GKyBcgUxgniKLZ4HP4Y8ABfTcbyryulHsjboLPEFo9FQbDFY/Ek8HYRuQjEgY8ppZxmcW/1WPwm8Dci8hsYge0POnBSCYCIfAljguBNxmQ+AZQAKKX+CiNG81NAHxAG/u2m+3TosdJoNBpNhrCy60mj0Wg0FkALhUaj0Wg2RAuFRqPRaDZEC4VGo9FoNkQLhUaj0Wg2RAuFRqPRaDZEC4VGo9FoNuT/B+J2VsFJOe5pAAAAAElFTkSuQmCC\n"
                },
                "metadata": {
                  "needs_background": "light"
                }
              }
            ]
          }
        },
        "2802abf1348343bd9c28a59a4481c5a5": {
          "model_module": "@jupyter-widgets/base",
          "model_name": "LayoutModel",
          "model_module_version": "1.2.0",
          "state": {
            "_model_module": "@jupyter-widgets/base",
            "_model_module_version": "1.2.0",
            "_model_name": "LayoutModel",
            "_view_count": null,
            "_view_module": "@jupyter-widgets/base",
            "_view_module_version": "1.2.0",
            "_view_name": "LayoutView",
            "align_content": null,
            "align_items": null,
            "align_self": null,
            "border": null,
            "bottom": null,
            "display": null,
            "flex": null,
            "flex_flow": null,
            "grid_area": null,
            "grid_auto_columns": null,
            "grid_auto_flow": null,
            "grid_auto_rows": null,
            "grid_column": null,
            "grid_gap": null,
            "grid_row": null,
            "grid_template_areas": null,
            "grid_template_columns": null,
            "grid_template_rows": null,
            "height": null,
            "justify_content": null,
            "justify_items": null,
            "left": null,
            "margin": null,
            "max_height": null,
            "max_width": null,
            "min_height": null,
            "min_width": null,
            "object_fit": null,
            "object_position": null,
            "order": null,
            "overflow": null,
            "overflow_x": null,
            "overflow_y": null,
            "padding": null,
            "right": null,
            "top": null,
            "visibility": null,
            "width": null
          }
        },
        "01e1f43916a7477f82bbcbc0f72142a2": {
          "model_module": "@jupyter-widgets/base",
          "model_name": "LayoutModel",
          "model_module_version": "1.2.0",
          "state": {
            "_model_module": "@jupyter-widgets/base",
            "_model_module_version": "1.2.0",
            "_model_name": "LayoutModel",
            "_view_count": null,
            "_view_module": "@jupyter-widgets/base",
            "_view_module_version": "1.2.0",
            "_view_name": "LayoutView",
            "align_content": null,
            "align_items": null,
            "align_self": null,
            "border": null,
            "bottom": null,
            "display": null,
            "flex": null,
            "flex_flow": null,
            "grid_area": null,
            "grid_auto_columns": null,
            "grid_auto_flow": null,
            "grid_auto_rows": null,
            "grid_column": null,
            "grid_gap": null,
            "grid_row": null,
            "grid_template_areas": null,
            "grid_template_columns": null,
            "grid_template_rows": null,
            "height": null,
            "justify_content": null,
            "justify_items": null,
            "left": null,
            "margin": null,
            "max_height": null,
            "max_width": null,
            "min_height": null,
            "min_width": null,
            "object_fit": null,
            "object_position": null,
            "order": null,
            "overflow": null,
            "overflow_x": null,
            "overflow_y": null,
            "padding": null,
            "right": null,
            "top": null,
            "visibility": null,
            "width": null
          }
        },
        "65ab6824f5ba40f4a396712fc21de53c": {
          "model_module": "@jupyter-widgets/controls",
          "model_name": "SliderStyleModel",
          "model_module_version": "1.5.0",
          "state": {
            "_model_module": "@jupyter-widgets/controls",
            "_model_module_version": "1.5.0",
            "_model_name": "SliderStyleModel",
            "_view_count": null,
            "_view_module": "@jupyter-widgets/base",
            "_view_module_version": "1.2.0",
            "_view_name": "StyleView",
            "description_width": "",
            "handle_color": null
          }
        },
        "aacd326f1252481dabf6beed9bf8de9d": {
          "model_module": "@jupyter-widgets/base",
          "model_name": "LayoutModel",
          "model_module_version": "1.2.0",
          "state": {
            "_model_module": "@jupyter-widgets/base",
            "_model_module_version": "1.2.0",
            "_model_name": "LayoutModel",
            "_view_count": null,
            "_view_module": "@jupyter-widgets/base",
            "_view_module_version": "1.2.0",
            "_view_name": "LayoutView",
            "align_content": null,
            "align_items": null,
            "align_self": null,
            "border": null,
            "bottom": null,
            "display": null,
            "flex": null,
            "flex_flow": null,
            "grid_area": null,
            "grid_auto_columns": null,
            "grid_auto_flow": null,
            "grid_auto_rows": null,
            "grid_column": null,
            "grid_gap": null,
            "grid_row": null,
            "grid_template_areas": null,
            "grid_template_columns": null,
            "grid_template_rows": null,
            "height": null,
            "justify_content": null,
            "justify_items": null,
            "left": null,
            "margin": null,
            "max_height": null,
            "max_width": null,
            "min_height": null,
            "min_width": null,
            "object_fit": null,
            "object_position": null,
            "order": null,
            "overflow": null,
            "overflow_x": null,
            "overflow_y": null,
            "padding": null,
            "right": null,
            "top": null,
            "visibility": null,
            "width": null
          }
        },
        "6f7576f448a948f396bc82dd3b3710f9": {
          "model_module": "@jupyter-widgets/controls",
          "model_name": "VBoxModel",
          "model_module_version": "1.5.0",
          "state": {
            "_dom_classes": [
              "widget-interact"
            ],
            "_model_module": "@jupyter-widgets/controls",
            "_model_module_version": "1.5.0",
            "_model_name": "VBoxModel",
            "_view_count": null,
            "_view_module": "@jupyter-widgets/controls",
            "_view_module_version": "1.5.0",
            "_view_name": "VBoxView",
            "box_style": "",
            "children": [
              "IPY_MODEL_ef2c07faebed4518b1a9cd03fd214932",
              "IPY_MODEL_d09b6d0cfd4c4c2fae9b2a0a21587394",
              "IPY_MODEL_d80186da05834a9a87a60a99c74c48ce"
            ],
            "layout": "IPY_MODEL_bb54279094be4ef89d80b1292ccab5c5"
          }
        },
        "ef2c07faebed4518b1a9cd03fd214932": {
          "model_module": "@jupyter-widgets/controls",
          "model_name": "IntSliderModel",
          "model_module_version": "1.5.0",
          "state": {
            "_dom_classes": [],
            "_model_module": "@jupyter-widgets/controls",
            "_model_module_version": "1.5.0",
            "_model_name": "IntSliderModel",
            "_view_count": null,
            "_view_module": "@jupyter-widgets/controls",
            "_view_module_version": "1.5.0",
            "_view_name": "IntSliderView",
            "continuous_update": true,
            "description": "nx",
            "description_tooltip": null,
            "disabled": false,
            "layout": "IPY_MODEL_45acdfd02fd246d8ab4a6823ad8c90d5",
            "max": 10,
            "min": 1,
            "orientation": "horizontal",
            "readout": true,
            "readout_format": "d",
            "step": 1,
            "style": "IPY_MODEL_0da46599e756451884e04d4022600fc2",
            "value": 3
          }
        },
        "d09b6d0cfd4c4c2fae9b2a0a21587394": {
          "model_module": "@jupyter-widgets/controls",
          "model_name": "IntSliderModel",
          "model_module_version": "1.5.0",
          "state": {
            "_dom_classes": [],
            "_model_module": "@jupyter-widgets/controls",
            "_model_module_version": "1.5.0",
            "_model_name": "IntSliderModel",
            "_view_count": null,
            "_view_module": "@jupyter-widgets/controls",
            "_view_module_version": "1.5.0",
            "_view_name": "IntSliderView",
            "continuous_update": true,
            "description": "ny",
            "description_tooltip": null,
            "disabled": false,
            "layout": "IPY_MODEL_082b5e317c354c77ba4068a48eda5a4d",
            "max": 10,
            "min": 1,
            "orientation": "horizontal",
            "readout": true,
            "readout_format": "d",
            "step": 1,
            "style": "IPY_MODEL_eeeb6722889949a2849ce50313600949",
            "value": 3
          }
        },
        "d80186da05834a9a87a60a99c74c48ce": {
          "model_module": "@jupyter-widgets/output",
          "model_name": "OutputModel",
          "model_module_version": "1.0.0",
          "state": {
            "_dom_classes": [],
            "_model_module": "@jupyter-widgets/output",
            "_model_module_version": "1.0.0",
            "_model_name": "OutputModel",
            "_view_count": null,
            "_view_module": "@jupyter-widgets/output",
            "_view_module_version": "1.0.0",
            "_view_name": "OutputView",
            "layout": "IPY_MODEL_86a4770afa304caeaeb9fa5554d6d6b5",
            "msg_id": "",
            "outputs": [
              {
                "output_type": "display_data",
                "data": {
                  "text/plain": "<Figure size 360x360 with 1 Axes>",
                  "image/png": "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\n"
                },
                "metadata": {
                  "needs_background": "light"
                }
              }
            ]
          }
        },
        "bb54279094be4ef89d80b1292ccab5c5": {
          "model_module": "@jupyter-widgets/base",
          "model_name": "LayoutModel",
          "model_module_version": "1.2.0",
          "state": {
            "_model_module": "@jupyter-widgets/base",
            "_model_module_version": "1.2.0",
            "_model_name": "LayoutModel",
            "_view_count": null,
            "_view_module": "@jupyter-widgets/base",
            "_view_module_version": "1.2.0",
            "_view_name": "LayoutView",
            "align_content": null,
            "align_items": null,
            "align_self": null,
            "border": null,
            "bottom": null,
            "display": null,
            "flex": null,
            "flex_flow": null,
            "grid_area": null,
            "grid_auto_columns": null,
            "grid_auto_flow": null,
            "grid_auto_rows": null,
            "grid_column": null,
            "grid_gap": null,
            "grid_row": null,
            "grid_template_areas": null,
            "grid_template_columns": null,
            "grid_template_rows": null,
            "height": null,
            "justify_content": null,
            "justify_items": null,
            "left": null,
            "margin": null,
            "max_height": null,
            "max_width": null,
            "min_height": null,
            "min_width": null,
            "object_fit": null,
            "object_position": null,
            "order": null,
            "overflow": null,
            "overflow_x": null,
            "overflow_y": null,
            "padding": null,
            "right": null,
            "top": null,
            "visibility": null,
            "width": null
          }
        },
        "45acdfd02fd246d8ab4a6823ad8c90d5": {
          "model_module": "@jupyter-widgets/base",
          "model_name": "LayoutModel",
          "model_module_version": "1.2.0",
          "state": {
            "_model_module": "@jupyter-widgets/base",
            "_model_module_version": "1.2.0",
            "_model_name": "LayoutModel",
            "_view_count": null,
            "_view_module": "@jupyter-widgets/base",
            "_view_module_version": "1.2.0",
            "_view_name": "LayoutView",
            "align_content": null,
            "align_items": null,
            "align_self": null,
            "border": null,
            "bottom": null,
            "display": null,
            "flex": null,
            "flex_flow": null,
            "grid_area": null,
            "grid_auto_columns": null,
            "grid_auto_flow": null,
            "grid_auto_rows": null,
            "grid_column": null,
            "grid_gap": null,
            "grid_row": null,
            "grid_template_areas": null,
            "grid_template_columns": null,
            "grid_template_rows": null,
            "height": null,
            "justify_content": null,
            "justify_items": null,
            "left": null,
            "margin": null,
            "max_height": null,
            "max_width": null,
            "min_height": null,
            "min_width": null,
            "object_fit": null,
            "object_position": null,
            "order": null,
            "overflow": null,
            "overflow_x": null,
            "overflow_y": null,
            "padding": null,
            "right": null,
            "top": null,
            "visibility": null,
            "width": null
          }
        },
        "0da46599e756451884e04d4022600fc2": {
          "model_module": "@jupyter-widgets/controls",
          "model_name": "SliderStyleModel",
          "model_module_version": "1.5.0",
          "state": {
            "_model_module": "@jupyter-widgets/controls",
            "_model_module_version": "1.5.0",
            "_model_name": "SliderStyleModel",
            "_view_count": null,
            "_view_module": "@jupyter-widgets/base",
            "_view_module_version": "1.2.0",
            "_view_name": "StyleView",
            "description_width": "",
            "handle_color": null
          }
        },
        "082b5e317c354c77ba4068a48eda5a4d": {
          "model_module": "@jupyter-widgets/base",
          "model_name": "LayoutModel",
          "model_module_version": "1.2.0",
          "state": {
            "_model_module": "@jupyter-widgets/base",
            "_model_module_version": "1.2.0",
            "_model_name": "LayoutModel",
            "_view_count": null,
            "_view_module": "@jupyter-widgets/base",
            "_view_module_version": "1.2.0",
            "_view_name": "LayoutView",
            "align_content": null,
            "align_items": null,
            "align_self": null,
            "border": null,
            "bottom": null,
            "display": null,
            "flex": null,
            "flex_flow": null,
            "grid_area": null,
            "grid_auto_columns": null,
            "grid_auto_flow": null,
            "grid_auto_rows": null,
            "grid_column": null,
            "grid_gap": null,
            "grid_row": null,
            "grid_template_areas": null,
            "grid_template_columns": null,
            "grid_template_rows": null,
            "height": null,
            "justify_content": null,
            "justify_items": null,
            "left": null,
            "margin": null,
            "max_height": null,
            "max_width": null,
            "min_height": null,
            "min_width": null,
            "object_fit": null,
            "object_position": null,
            "order": null,
            "overflow": null,
            "overflow_x": null,
            "overflow_y": null,
            "padding": null,
            "right": null,
            "top": null,
            "visibility": null,
            "width": null
          }
        },
        "eeeb6722889949a2849ce50313600949": {
          "model_module": "@jupyter-widgets/controls",
          "model_name": "SliderStyleModel",
          "model_module_version": "1.5.0",
          "state": {
            "_model_module": "@jupyter-widgets/controls",
            "_model_module_version": "1.5.0",
            "_model_name": "SliderStyleModel",
            "_view_count": null,
            "_view_module": "@jupyter-widgets/base",
            "_view_module_version": "1.2.0",
            "_view_name": "StyleView",
            "description_width": "",
            "handle_color": null
          }
        },
        "86a4770afa304caeaeb9fa5554d6d6b5": {
          "model_module": "@jupyter-widgets/base",
          "model_name": "LayoutModel",
          "model_module_version": "1.2.0",
          "state": {
            "_model_module": "@jupyter-widgets/base",
            "_model_module_version": "1.2.0",
            "_model_name": "LayoutModel",
            "_view_count": null,
            "_view_module": "@jupyter-widgets/base",
            "_view_module_version": "1.2.0",
            "_view_name": "LayoutView",
            "align_content": null,
            "align_items": null,
            "align_self": null,
            "border": null,
            "bottom": null,
            "display": null,
            "flex": null,
            "flex_flow": null,
            "grid_area": null,
            "grid_auto_columns": null,
            "grid_auto_flow": null,
            "grid_auto_rows": null,
            "grid_column": null,
            "grid_gap": null,
            "grid_row": null,
            "grid_template_areas": null,
            "grid_template_columns": null,
            "grid_template_rows": null,
            "height": null,
            "justify_content": null,
            "justify_items": null,
            "left": null,
            "margin": null,
            "max_height": null,
            "max_width": null,
            "min_height": null,
            "min_width": null,
            "object_fit": null,
            "object_position": null,
            "order": null,
            "overflow": null,
            "overflow_x": null,
            "overflow_y": null,
            "padding": null,
            "right": null,
            "top": null,
            "visibility": null,
            "width": null
          }
        }
      }
    }
  },
  "cells": [
    {
      "cell_type": "markdown",
      "metadata": {
        "id": "view-in-github",
        "colab_type": "text"
      },
      "source": [
        "<a href=\"https://colab.research.google.com/github/NataliaRusinchuk/DigiLabStar/blob/main/Standing_waves_1D.ipynb\" target=\"_parent\"><img src=\"https://colab.research.google.com/assets/colab-badge.svg\" alt=\"Open In Colab\"/></a>"
      ]
    },
    {
      "cell_type": "code",
      "source": [
        "#@title 1d standing wave\n",
        "import numpy as np\n",
        "import matplotlib.pyplot as plt\n",
        "import ipywidgets as widgets\n",
        "\n",
        "t = np.linspace(0, 1, 101)\n",
        "n_picker = widgets.IntSlider(2, min=1, max=10)\n",
        "\n",
        "@widgets.interact(n=n_picker)\n",
        "def standing_wave_1d(n):\n",
        "  plt.plot(t, np.sin(np.pi * n * t))\n",
        "  plt.xlim(0, 1)\n",
        "  plt.ylim(-1, 1)"
      ],
      "metadata": {
        "colab": {
          "base_uri": "https://localhost:8080/",
          "height": 301,
          "referenced_widgets": [
            "999a2be321ef470baa3ffa8d2c9424d8",
            "7cbf4029b47043d2ba57a2f4dd3aded0",
            "e3ad9a2b42a84071a8babaeaeb5a5cca",
            "2802abf1348343bd9c28a59a4481c5a5",
            "01e1f43916a7477f82bbcbc0f72142a2",
            "65ab6824f5ba40f4a396712fc21de53c",
            "aacd326f1252481dabf6beed9bf8de9d"
          ]
        },
        "cellView": "form",
        "id": "j3TaElP2eazP",
        "outputId": "bc7e1f0b-7b44-468e-cdf8-2391b72f3c31"
      },
      "execution_count": 13,
      "outputs": [
        {
          "output_type": "display_data",
          "data": {
            "text/plain": [
              "interactive(children=(IntSlider(value=2, description='n', max=10, min=1), Output()), _dom_classes=('widget-int…"
            ],
            "application/vnd.jupyter.widget-view+json": {
              "version_major": 2,
              "version_minor": 0,
              "model_id": "999a2be321ef470baa3ffa8d2c9424d8"
            }
          },
          "metadata": {}
        }
      ]
    },
    {
      "cell_type": "code",
      "source": [
        "#@title 2d standing wave\n",
        "import numpy as np\n",
        "import matplotlib.pyplot as plt\n",
        "import ipywidgets as widgets\n",
        "\n",
        "x = np.linspace(0, 1, 101)\n",
        "y = np.linspace(0, 1, 101)\n",
        "\n",
        "nx_picker = widgets.IntSlider(2, min=1, max=10)\n",
        "ny_picker = widgets.IntSlider(2, min=1, max=10)\n",
        "@widgets.interact(nx=nx_picker, ny=ny_picker)\n",
        "def standing_wave_2d(nx, ny):\n",
        "  fig, ax = plt.subplots(figsize=(5,5))\n",
        "  X, Y = np.meshgrid(x, y)\n",
        "  Z = np.sin(np.pi * (nx * X))*np.sin(np.pi * (ny * Y))\n",
        "  plt.contourf(x, y, Z)"
      ],
      "metadata": {
        "colab": {
          "base_uri": "https://localhost:8080/",
          "height": 388,
          "referenced_widgets": [
            "6f7576f448a948f396bc82dd3b3710f9",
            "ef2c07faebed4518b1a9cd03fd214932",
            "d09b6d0cfd4c4c2fae9b2a0a21587394",
            "d80186da05834a9a87a60a99c74c48ce",
            "bb54279094be4ef89d80b1292ccab5c5",
            "45acdfd02fd246d8ab4a6823ad8c90d5",
            "0da46599e756451884e04d4022600fc2",
            "082b5e317c354c77ba4068a48eda5a4d",
            "eeeb6722889949a2849ce50313600949",
            "86a4770afa304caeaeb9fa5554d6d6b5"
          ]
        },
        "cellView": "form",
        "id": "vECreT1BgWmW",
        "outputId": "d780a84b-5de7-4ef4-ab35-a21b526ae6cd"
      },
      "execution_count": 19,
      "outputs": [
        {
          "output_type": "display_data",
          "data": {
            "text/plain": [
              "interactive(children=(IntSlider(value=2, description='nx', max=10, min=1), IntSlider(value=2, description='ny'…"
            ],
            "application/vnd.jupyter.widget-view+json": {
              "version_major": 2,
              "version_minor": 0,
              "model_id": "6f7576f448a948f396bc82dd3b3710f9"
            }
          },
          "metadata": {}
        }
      ]
    },
    {
      "cell_type": "code",
      "source": [],
      "metadata": {
        "id": "IGlhJtmJhdmU"
      },
      "execution_count": null,
      "outputs": []
    }
  ]
}
